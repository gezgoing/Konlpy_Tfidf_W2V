{
 "cells": [
  {
   "cell_type": "markdown",
   "metadata": {},
   "source": [
    "### 라이브러리 로드"
   ]
  },
  {
   "cell_type": "code",
   "execution_count": 1,
   "metadata": {},
   "outputs": [],
   "source": [
    "# -*- coding: utf-8 -*-\n",
    "%matplotlib inline\n",
    "import numpy as np\n",
    "import matplotlib.pyplot as plt\n",
    "import re\n",
    "from string import digits"
   ]
  },
  {
   "cell_type": "markdown",
   "metadata": {},
   "source": [
    "### Data 읽기\n",
    "\n",
    "![Integer Memory Layout](Fgr/TM_0_Complaint_Data.JPG)"
   ]
  },
  {
   "cell_type": "code",
   "execution_count": 2,
   "metadata": {
    "scrolled": true
   },
   "outputs": [
    {
     "data": {
      "text/html": [
       "<div>\n",
       "<style scoped>\n",
       "    .dataframe tbody tr th:only-of-type {\n",
       "        vertical-align: middle;\n",
       "    }\n",
       "\n",
       "    .dataframe tbody tr th {\n",
       "        vertical-align: top;\n",
       "    }\n",
       "\n",
       "    .dataframe thead th {\n",
       "        text-align: right;\n",
       "    }\n",
       "</style>\n",
       "<table border=\"1\" class=\"dataframe\">\n",
       "  <thead>\n",
       "    <tr style=\"text-align: right;\">\n",
       "      <th></th>\n",
       "      <th>대번호</th>\n",
       "      <th>소번호</th>\n",
       "      <th>문장</th>\n",
       "      <th>훼손/파손</th>\n",
       "      <th>분실</th>\n",
       "      <th>배송지연</th>\n",
       "      <th>오배송</th>\n",
       "      <th>기타(임의반품, 불친절, 집하거부 등)</th>\n",
       "      <th>관련없음</th>\n",
       "    </tr>\n",
       "  </thead>\n",
       "  <tbody>\n",
       "    <tr>\n",
       "      <th>0</th>\n",
       "      <td>1</td>\n",
       "      <td>1</td>\n",
       "      <td>2013. 11. 4. 신청인은 지인에게 선물하기 위해 햅쌀 20kg을 피신청인을...</td>\n",
       "      <td>NaN</td>\n",
       "      <td>NaN</td>\n",
       "      <td>NaN</td>\n",
       "      <td>NaN</td>\n",
       "      <td>NaN</td>\n",
       "      <td>y</td>\n",
       "    </tr>\n",
       "    <tr>\n",
       "      <th>1</th>\n",
       "      <td>1</td>\n",
       "      <td>2</td>\n",
       "      <td>2013. 11. 8. 상하차 도중 포장이 훼손되어 배송불가하다는 연락을 받아, ...</td>\n",
       "      <td>y</td>\n",
       "      <td>NaN</td>\n",
       "      <td>NaN</td>\n",
       "      <td>NaN</td>\n",
       "      <td>NaN</td>\n",
       "      <td>NaN</td>\n",
       "    </tr>\n",
       "    <tr>\n",
       "      <th>2</th>\n",
       "      <td>1</td>\n",
       "      <td>3</td>\n",
       "      <td>신청인은 청원군 햅쌀 20kg 배송 이행과 함께 두 달 이상 지연된 것에 대한 배상...</td>\n",
       "      <td>NaN</td>\n",
       "      <td>NaN</td>\n",
       "      <td>NaN</td>\n",
       "      <td>NaN</td>\n",
       "      <td>NaN</td>\n",
       "      <td>y</td>\n",
       "    </tr>\n",
       "    <tr>\n",
       "      <th>3</th>\n",
       "      <td>1</td>\n",
       "      <td>4</td>\n",
       "      <td>\\n* 운송장번호 : 8400  1322  3033</td>\n",
       "      <td>NaN</td>\n",
       "      <td>NaN</td>\n",
       "      <td>NaN</td>\n",
       "      <td>NaN</td>\n",
       "      <td>NaN</td>\n",
       "      <td>y</td>\n",
       "    </tr>\n",
       "    <tr>\n",
       "      <th>4</th>\n",
       "      <td>2</td>\n",
       "      <td>1</td>\n",
       "      <td>신청인은 2013.11. 9. 피신청인 동대문 도매업체를 통하여 의류를 주문하고 당...</td>\n",
       "      <td>NaN</td>\n",
       "      <td>NaN</td>\n",
       "      <td>NaN</td>\n",
       "      <td>NaN</td>\n",
       "      <td>NaN</td>\n",
       "      <td>y</td>\n",
       "    </tr>\n",
       "  </tbody>\n",
       "</table>\n",
       "</div>"
      ],
      "text/plain": [
       "   대번호  소번호                                                 문장 훼손/파손   분실  \\\n",
       "0    1    1   2013. 11. 4. 신청인은 지인에게 선물하기 위해 햅쌀 20kg을 피신청인을...   NaN  NaN   \n",
       "1    1    2   2013. 11. 8. 상하차 도중 포장이 훼손되어 배송불가하다는 연락을 받아, ...     y  NaN   \n",
       "2    1    3  신청인은 청원군 햅쌀 20kg 배송 이행과 함께 두 달 이상 지연된 것에 대한 배상...   NaN  NaN   \n",
       "3    1    4                       \\n* 운송장번호 : 8400  1322  3033   NaN  NaN   \n",
       "4    2    1  신청인은 2013.11. 9. 피신청인 동대문 도매업체를 통하여 의류를 주문하고 당...   NaN  NaN   \n",
       "\n",
       "  배송지연  오배송 기타(임의반품, 불친절, 집하거부 등) 관련없음  \n",
       "0  NaN  NaN                   NaN    y  \n",
       "1  NaN  NaN                   NaN  NaN  \n",
       "2  NaN  NaN                   NaN    y  \n",
       "3  NaN  NaN                   NaN    y  \n",
       "4  NaN  NaN                   NaN    y  "
      ]
     },
     "execution_count": 2,
     "metadata": {},
     "output_type": "execute_result"
    }
   ],
   "source": [
    "import pandas as pd\n",
    "senta = pd.read_csv('complaint.csv')\n",
    "senta.head()"
   ]
  },
  {
   "cell_type": "markdown",
   "metadata": {},
   "source": [
    "### 민원 문장(senta_x)과 5개의 민원 유형(class) 분리"
   ]
  },
  {
   "cell_type": "code",
   "execution_count": 3,
   "metadata": {},
   "outputs": [
    {
     "name": "stdout",
     "output_type": "stream",
     "text": [
      "0     2013. 11. 4. 신청인은 지인에게 선물하기 위해 햅쌀 20kg을 피신청인을...\n",
      "1     2013. 11. 8. 상하차 도중 포장이 훼손되어 배송불가하다는 연락을 받아, ...\n",
      "2    신청인은 청원군 햅쌀 20kg 배송 이행과 함께 두 달 이상 지연된 것에 대한 배상...\n",
      "3                         \\n* 운송장번호 : 8400  1322  3033\n",
      "4    신청인은 2013.11. 9. 피신청인 동대문 도매업체를 통하여 의류를 주문하고 당...\n",
      "Name: 문장, dtype: object\n",
      "  훼손/파손   분실 배송지연  오배송 기타(임의반품, 불친절, 집하거부 등) 관련없음\n",
      "0   NaN  NaN  NaN  NaN                   NaN    y\n",
      "1     y  NaN  NaN  NaN                   NaN  NaN\n",
      "2   NaN  NaN  NaN  NaN                   NaN    y\n",
      "3   NaN  NaN  NaN  NaN                   NaN    y\n",
      "4   NaN  NaN  NaN  NaN                   NaN    y\n"
     ]
    }
   ],
   "source": [
    "X_ = senta.iloc[:,2]\n",
    "y_senta = senta.iloc[:,3:]\n",
    "\n",
    "print(X_.head())\n",
    "print(y_senta[:5])"
   ]
  },
  {
   "cell_type": "markdown",
   "metadata": {},
   "source": [
    "### 불필요한 기호와 숫자 제거"
   ]
  },
  {
   "cell_type": "code",
   "execution_count": 4,
   "metadata": {},
   "outputs": [
    {
     "name": "stdout",
     "output_type": "stream",
     "text": [
      "(2727,)\n"
     ]
    },
    {
     "data": {
      "text/plain": [
       "0         신청인은 지인에게 선물하기 위해 햅쌀 kg을 피신청인을 통해 선불로 택배 발송함\n",
       "1    상하차 도중 포장이 훼손되어 배송불가하다는 연락을 받아 피신청인의 택배기사가 훼손된...\n",
       "2    신청인은 청원군 햅쌀 kg 배송 이행과 함께 두 달 이상 지연된 것에 대한 배상을 요구함\n",
       "dtype: object"
      ]
     },
     "execution_count": 4,
     "metadata": {},
     "output_type": "execute_result"
    }
   ],
   "source": [
    "X = []\n",
    "for i in range(len(X_)):\n",
    "    tmp = X_[i]\n",
    "    tmp = re.sub(r'[^\\w]', ' ', tmp)\n",
    "    tmp = re.sub(\"\\d+\", \" \", tmp)\n",
    "    tmp = re.sub(r'\\s+',' ',tmp).strip()\n",
    "    X.append(tmp)\n",
    "    \n",
    "X=pd.Series(X)\n",
    "print(X.shape)\n",
    "X[:3]"
   ]
  },
  {
   "cell_type": "markdown",
   "metadata": {},
   "source": [
    "### 민원 라벨 데이터 생성 (one hot -> categorical)"
   ]
  },
  {
   "cell_type": "code",
   "execution_count": 5,
   "metadata": {},
   "outputs": [
    {
     "name": "stdout",
     "output_type": "stream",
     "text": [
      "0    5\n",
      "1    0\n",
      "2    5\n",
      "3    5\n",
      "4    5\n",
      "dtype: int32\n"
     ]
    },
    {
     "data": {
      "text/plain": [
       "(2727,)"
      ]
     },
     "execution_count": 5,
     "metadata": {},
     "output_type": "execute_result"
    }
   ],
   "source": [
    "y = pd.Series(np.zeros(y_senta.shape[0]),dtype=int)\n",
    "for i in range(y_senta.shape[1]):\n",
    "    ind = y_senta.iloc[:,i] == 'y'\n",
    "    y[ind] = i\n",
    "    \n",
    "print(y.head())\n",
    "y.shape"
   ]
  },
  {
   "cell_type": "markdown",
   "metadata": {},
   "source": [
    "### Data를 훈련/테스트 데이터로 분리"
   ]
  },
  {
   "cell_type": "code",
   "execution_count": 6,
   "metadata": {},
   "outputs": [],
   "source": [
    "from sklearn.model_selection import train_test_split\n",
    "X_train, X_test, y_train, y_test = train_test_split(X, y, random_state=0)"
   ]
  },
  {
   "cell_type": "code",
   "execution_count": 7,
   "metadata": {},
   "outputs": [
    {
     "name": "stdout",
     "output_type": "stream",
     "text": [
      "(2045,) (682,) (2045,) (682,)\n"
     ]
    }
   ],
   "source": [
    "print(X_train.shape,X_test.shape, y_train.shape, y_test.shape)"
   ]
  },
  {
   "cell_type": "code",
   "execution_count": 8,
   "metadata": {},
   "outputs": [
    {
     "data": {
      "text/plain": [
       "2104    다 신청인은 물품이 한국에 도착하지 아니하고 물품조회가 이루어지지 아니하여 발송인 ...\n",
       "1657                                   군포BHub 간선하차 군포BHub\n",
       "52                                          시계고장으로 A S 맡김\n",
       "1323    다 신청인은 피신청인 과 피신청인 현대택배 안락대리점 를 통하여 확인한 결과 피신청...\n",
       "2330                              이하넥스 서비스 신청번호 해당내용 신청번호\n",
       "dtype: object"
      ]
     },
     "execution_count": 8,
     "metadata": {},
     "output_type": "execute_result"
    }
   ],
   "source": [
    "X_train.head()"
   ]
  },
  {
   "cell_type": "code",
   "execution_count": 9,
   "metadata": {},
   "outputs": [
    {
     "data": {
      "text/html": [
       "<div>\n",
       "<style scoped>\n",
       "    .dataframe tbody tr th:only-of-type {\n",
       "        vertical-align: middle;\n",
       "    }\n",
       "\n",
       "    .dataframe tbody tr th {\n",
       "        vertical-align: top;\n",
       "    }\n",
       "\n",
       "    .dataframe thead th {\n",
       "        text-align: right;\n",
       "    }\n",
       "</style>\n",
       "<table border=\"1\" class=\"dataframe\">\n",
       "  <thead>\n",
       "    <tr style=\"text-align: right;\">\n",
       "      <th></th>\n",
       "      <th>대번호</th>\n",
       "      <th>소번호</th>\n",
       "      <th>문장</th>\n",
       "      <th>훼손/파손</th>\n",
       "      <th>분실</th>\n",
       "      <th>배송지연</th>\n",
       "      <th>오배송</th>\n",
       "      <th>기타(임의반품, 불친절, 집하거부 등)</th>\n",
       "      <th>관련없음</th>\n",
       "    </tr>\n",
       "  </thead>\n",
       "  <tbody>\n",
       "    <tr>\n",
       "      <th>2104</th>\n",
       "      <td>432</td>\n",
       "      <td>4</td>\n",
       "      <td>다. 신청인은 2015. 3. 13. 물품이 한국에 도착하지 아니하고, 물품조회가 ...</td>\n",
       "      <td>NaN</td>\n",
       "      <td>NaN</td>\n",
       "      <td>y</td>\n",
       "      <td>NaN</td>\n",
       "      <td>NaN</td>\n",
       "      <td>NaN</td>\n",
       "    </tr>\n",
       "    <tr>\n",
       "      <th>1657</th>\n",
       "      <td>341</td>\n",
       "      <td>4</td>\n",
       "      <td>20141204 21:02:06 군포BHub 간선하차 군포BHub(0318952584)</td>\n",
       "      <td>NaN</td>\n",
       "      <td>NaN</td>\n",
       "      <td>NaN</td>\n",
       "      <td>NaN</td>\n",
       "      <td>NaN</td>\n",
       "      <td>y</td>\n",
       "    </tr>\n",
       "  </tbody>\n",
       "</table>\n",
       "</div>"
      ],
      "text/plain": [
       "      대번호  소번호                                                 문장 훼손/파손   분실  \\\n",
       "2104  432    4  다. 신청인은 2015. 3. 13. 물품이 한국에 도착하지 아니하고, 물품조회가 ...   NaN  NaN   \n",
       "1657  341    4   20141204 21:02:06 군포BHub 간선하차 군포BHub(0318952584)   NaN  NaN   \n",
       "\n",
       "     배송지연  오배송 기타(임의반품, 불친절, 집하거부 등) 관련없음  \n",
       "2104    y  NaN                   NaN  NaN  \n",
       "1657  NaN  NaN                   NaN    y  "
      ]
     },
     "execution_count": 9,
     "metadata": {},
     "output_type": "execute_result"
    }
   ],
   "source": [
    "senta.iloc[[2104,1657],:]"
   ]
  },
  {
   "cell_type": "code",
   "execution_count": 10,
   "metadata": {},
   "outputs": [
    {
     "data": {
      "text/plain": [
       "2104    2\n",
       "1657    5\n",
       "dtype: int32"
      ]
     },
     "execution_count": 10,
     "metadata": {},
     "output_type": "execute_result"
    }
   ],
   "source": [
    "y_train.head(2)"
   ]
  },
  {
   "cell_type": "markdown",
   "metadata": {},
   "source": [
    "### TF IDF\n",
    "\n",
    ">간결하고 명확한 설명: https://nesoy.github.io/articles/2017-11/tf-idf\n",
    "\n",
    "![Integer Memory Layout](Fgr/TM_1_TFIDF.JPG)\n",
    "\n",
    ">자세하게 설명: http://euriion.com/?p=411929\n",
    "\n",
    "![Integer Memory Layout](Fgr/TM_2_TFIDF.JPG)"
   ]
  },
  {
   "cell_type": "code",
   "execution_count": 11,
   "metadata": {
    "scrolled": true
   },
   "outputs": [
    {
     "name": "stdout",
     "output_type": "stream",
     "text": [
      "['cj', 'cj대한통운', 'gs', 'kg', 'kgb', 'kgb택배', 'kg을', 'tv', '가격', '가격은', '가격을', '가능하다고', '가방', '가서', '가액', '가액을', '가지고', '같다고', '같은', '같이', '개가', '개는', '개당', '개를', '개월', '개의', '개중', '거부함', '거절함', '거주하는', '것으로', '것은', '것을', '것이', '것이라고', '것임', '결과', '결제함', '경기도', '경남', '경동택배', '경동택배를', '경비실에', '경우', '계속', '계약', '계약을', '고객센터', '고객센터로', '고객센터에', '고구마', '고시', '골프채', '공정거래위원회', '과실로', '과실을', '과실이', '과일', '과정에서', '관련', '관련법령', '구매', '구매자가', '구매자에게', '구매하고', '구매한', '구입', '구입가', '구입가격', '구입일', '구입하고', '구입하여', '구입한', '구입함', '국내', '규정에', '귤이', '그냥', '그대로', '그러나', '그런데', '그리고', '금액', '기다렸으나', '기다리라고', '기다리라는', '기사', '기사가', '기사에게', '기재', '기재되어', '기재된', '기재하여', '기재한', '기재함', '기준에', '기타', '김치', '까지', '깨져서']\n",
      "<<<shape of X_train_tfidf>>> :  (2045, 814)\n",
      "<<<type of X_train_tfidf>>> :  <class 'scipy.sparse.csr.csr_matrix'>\n",
      "<<<X_train_tfidf[:10,:10]>>> :\n",
      " \n"
     ]
    }
   ],
   "source": [
    "from sklearn.feature_extraction.text import TfidfVectorizer\n",
    "vectorizer = TfidfVectorizer(min_df=5)\n",
    "X_train_tfidf = vectorizer.fit_transform(X_train)\n",
    "print(vectorizer.get_feature_names()[:100])\n",
    "\n",
    "print(\"<<<shape of X_train_tfidf>>> : \",X_train_tfidf.shape)\n",
    "print(\"<<<type of X_train_tfidf>>> : \",type(X_train_tfidf))\n",
    "print(\"<<<X_train_tfidf[:10,:10]>>> :\\n\",X_train_tfidf[:10,:10])"
   ]
  },
  {
   "cell_type": "code",
   "execution_count": 12,
   "metadata": {},
   "outputs": [],
   "source": [
    "from sklearn.svm import SVC\n",
    "\n",
    "svm = SVC(kernel='rbf',gamma=1).fit(X_train_tfidf, y_train)"
   ]
  },
  {
   "cell_type": "code",
   "execution_count": 13,
   "metadata": {},
   "outputs": [
    {
     "name": "stdout",
     "output_type": "stream",
     "text": [
      "훈련 세트 정확도: 0.90\n"
     ]
    }
   ],
   "source": [
    "print(\"훈련 세트 정확도: {:.2f}\".format(svm.score(X_train_tfidf, y_train)))"
   ]
  },
  {
   "cell_type": "code",
   "execution_count": 14,
   "metadata": {},
   "outputs": [
    {
     "name": "stdout",
     "output_type": "stream",
     "text": [
      "테스트 세트 정확도: 0.71\n"
     ]
    }
   ],
   "source": [
    "X_test_tfidf = vectorizer.transform(X_test)\n",
    "print(\"테스트 세트 정확도: {:.2f}\".format(svm.score(X_test_tfidf, y_test)))"
   ]
  },
  {
   "cell_type": "code",
   "execution_count": 15,
   "metadata": {},
   "outputs": [],
   "source": [
    "from sklearn.metrics import confusion_matrix"
   ]
  },
  {
   "cell_type": "code",
   "execution_count": 16,
   "metadata": {
    "scrolled": false
   },
   "outputs": [
    {
     "data": {
      "text/plain": [
       "array([[ 274,    2,    1,    0,    0,    3],\n",
       "       [   0,  189,    0,    1,    0,    4],\n",
       "       [   0,    0,   17,    0,    0,    0],\n",
       "       [   0,    0,    0,    4,    0,    0],\n",
       "       [   0,    0,    0,    0,   17,    0],\n",
       "       [  43,   43,   28,   21,   54, 1344]], dtype=int64)"
      ]
     },
     "execution_count": 16,
     "metadata": {},
     "output_type": "execute_result"
    }
   ],
   "source": [
    "y_tr_pred = svm.predict(X_train_tfidf)\n",
    "confusion_matrix(y_tr_pred, y_train)"
   ]
  },
  {
   "cell_type": "code",
   "execution_count": 17,
   "metadata": {
    "scrolled": false
   },
   "outputs": [
    {
     "data": {
      "text/plain": [
       "array([[ 37,   3,   1,   1,   0,  12],\n",
       "       [  0,  21,   0,   0,   0,   7],\n",
       "       [  0,   0,   0,   0,   0,   0],\n",
       "       [  0,   0,   0,   0,   0,   0],\n",
       "       [  0,   0,   0,   0,   0,   0],\n",
       "       [ 61,  54,  20,   9,  28, 428]], dtype=int64)"
      ]
     },
     "execution_count": 17,
     "metadata": {},
     "output_type": "execute_result"
    }
   ],
   "source": [
    "y_tt_pred = svm.predict(X_test_tfidf)\n",
    "confusion_matrix(y_tt_pred, y_test)"
   ]
  },
  {
   "cell_type": "markdown",
   "metadata": {},
   "source": [
    "### Grid Search & Cross Validation"
   ]
  },
  {
   "cell_type": "code",
   "execution_count": 18,
   "metadata": {},
   "outputs": [
    {
     "data": {
      "text/plain": [
       "GridSearchCV(cv=5, error_score='raise-deprecating',\n",
       "       estimator=SVC(C=1.0, cache_size=200, class_weight=None, coef0=0.0,\n",
       "  decision_function_shape='ovr', degree=3, gamma='auto_deprecated',\n",
       "  kernel='rbf', max_iter=-1, probability=False, random_state=None,\n",
       "  shrinking=True, tol=0.001, verbose=False),\n",
       "       fit_params=None, iid='warn', n_jobs=None,\n",
       "       param_grid={'C': [0.001, 0.01, 0.1, 1, 10, 100], 'gamma': [0.001, 0.01, 0.1, 1, 10, 100]},\n",
       "       pre_dispatch='2*n_jobs', refit=True, return_train_score=True,\n",
       "       scoring=None, verbose=0)"
      ]
     },
     "execution_count": 18,
     "metadata": {},
     "output_type": "execute_result"
    }
   ],
   "source": [
    "%%time\n",
    "# wait 2~3 min\n",
    "from sklearn.model_selection import GridSearchCV\n",
    "param_grid = {'C': [0.001, 0.01, 0.1, 1, 10, 100], # 100\n",
    "              'gamma': [0.001, 0.01, 0.1, 1, 10, 100]} # 0.01\n",
    "grid_search = GridSearchCV(SVC(), param_grid, cv=5, return_train_score=True)\n",
    "grid_search.fit(X_train_tfidf, y_train)"
   ]
  },
  {
   "cell_type": "code",
   "execution_count": 19,
   "metadata": {
    "scrolled": true
   },
   "outputs": [
    {
     "data": {
      "text/plain": [
       "{'C': 10, 'gamma': 0.1}"
      ]
     },
     "execution_count": 19,
     "metadata": {},
     "output_type": "execute_result"
    }
   ],
   "source": [
    "grid_search.best_params_"
   ]
  },
  {
   "cell_type": "code",
   "execution_count": 20,
   "metadata": {},
   "outputs": [
    {
     "data": {
      "text/plain": [
       "0.7550122249388753"
      ]
     },
     "execution_count": 20,
     "metadata": {},
     "output_type": "execute_result"
    }
   ],
   "source": [
    "grid_search.best_score_"
   ]
  },
  {
   "cell_type": "code",
   "execution_count": 21,
   "metadata": {},
   "outputs": [
    {
     "name": "stdout",
     "output_type": "stream",
     "text": [
      "훈련 세트 점수: 0.93\n"
     ]
    }
   ],
   "source": [
    "print(\"훈련 세트 점수: {:.2f}\".format(grid_search.score(X_train_tfidf, y_train)))"
   ]
  },
  {
   "cell_type": "code",
   "execution_count": 22,
   "metadata": {
    "scrolled": true
   },
   "outputs": [
    {
     "name": "stdout",
     "output_type": "stream",
     "text": [
      "테스트 세트 점수: 0.72\n"
     ]
    }
   ],
   "source": [
    "print(\"테스트 세트 점수: {:.2f}\".format(grid_search.score(X_test_tfidf, y_test)))"
   ]
  },
  {
   "cell_type": "code",
   "execution_count": 23,
   "metadata": {
    "scrolled": true
   },
   "outputs": [
    {
     "name": "stdout",
     "output_type": "stream",
     "text": [
      "최고 성능 모델:\n",
      "SVC(C=10, cache_size=200, class_weight=None, coef0=0.0,\n",
      "  decision_function_shape='ovr', degree=3, gamma=0.1, kernel='rbf',\n",
      "  max_iter=-1, probability=False, random_state=None, shrinking=True,\n",
      "  tol=0.001, verbose=False)\n"
     ]
    }
   ],
   "source": [
    "print(\"최고 성능 모델:\\n{}\".format(grid_search.best_estimator_))"
   ]
  },
  {
   "cell_type": "markdown",
   "metadata": {},
   "source": [
    "### Konlpy\n",
    "\n",
    "https://wikidocs.net/21698\n",
    "\n",
    "형태소 분석기: \n",
    "> Okt(Open Korea Text, 전 Twitter), 메캅(Mecab), 코모란(Komoran), 한나눔(Hannanum), 꼬꼬마(Kkma)\n",
    "\n",
    "분해(tokenization) 방법:\n",
    "> morphs(morpheme tokenization), pos(part of speech tagging), nouns"
   ]
  },
  {
   "cell_type": "code",
   "execution_count": 24,
   "metadata": {},
   "outputs": [],
   "source": [
    "from konlpy.tag import Okt,Hannanum # Okt(Open Korea Text) <-- Twitter : Class Name Changed"
   ]
  },
  {
   "cell_type": "code",
   "execution_count": 25,
   "metadata": {},
   "outputs": [
    {
     "data": {
      "text/plain": [
       "'변상확인요청서를 포함한 요청 서류 발송 후 주 내 보상 약속을 하였음'"
      ]
     },
     "execution_count": 25,
     "metadata": {},
     "output_type": "execute_result"
    }
   ],
   "source": [
    "X_train.iloc[6]"
   ]
  },
  {
   "cell_type": "markdown",
   "metadata": {},
   "source": [
    "### 한나눔(Hannanum)"
   ]
  },
  {
   "cell_type": "code",
   "execution_count": 26,
   "metadata": {},
   "outputs": [
    {
     "name": "stdout",
     "output_type": "stream",
     "text": [
      "['변상확인요청서', '를', '포함', '하', 'ㄴ', '요청', '서류', '발송', '후', '주', '내', '보상', '약속', '을', '하', '었음']\n"
     ]
    }
   ],
   "source": [
    "# 형태소 토큰화(morphs)\n",
    "hnm=Hannanum()\n",
    "print(hnm.morphs(X_train.iloc[6]))"
   ]
  },
  {
   "cell_type": "code",
   "execution_count": 27,
   "metadata": {},
   "outputs": [
    {
     "name": "stdout",
     "output_type": "stream",
     "text": [
      "[('변상확인요청서', 'N'), ('를', 'J'), ('포함', 'N'), ('하', 'X'), ('ㄴ', 'E'), ('요청', 'N'), ('서류', 'N'), ('발송', 'N'), ('후', 'N'), ('주', 'N'), ('내', 'N'), ('보상', 'N'), ('약속', 'N'), ('을', 'J'), ('하', 'P'), ('었음', 'E')]\n"
     ]
    }
   ],
   "source": [
    "# 품사부착(pos)\n",
    "print(hnm.pos(X_train.iloc[6]))"
   ]
  },
  {
   "cell_type": "code",
   "execution_count": 28,
   "metadata": {},
   "outputs": [
    {
     "name": "stdout",
     "output_type": "stream",
     "text": [
      "['변상확인요청서', '포함', '요청', '서류', '발송', '후', '주', '내', '보상', '약속']\n"
     ]
    }
   ],
   "source": [
    "# 명사추출(nouns)\n",
    "print(hnm.nouns(X_train.iloc[6]))"
   ]
  },
  {
   "cell_type": "markdown",
   "metadata": {},
   "source": [
    "### Okt: Open Korea Text"
   ]
  },
  {
   "cell_type": "code",
   "execution_count": 29,
   "metadata": {},
   "outputs": [
    {
     "name": "stdout",
     "output_type": "stream",
     "text": [
      "['변상', '확인', '요청서', '를', '포함', '한', '요청', '서류', '발송', '후', '주', '내', '보상', '약속', '을', '하였음']\n"
     ]
    }
   ],
   "source": [
    "# 형태소 토큰화(morphs)\n",
    "okt_tag = Okt()\n",
    "print(okt_tag.morphs(X_train.iloc[6]))"
   ]
  },
  {
   "cell_type": "code",
   "execution_count": 30,
   "metadata": {
    "scrolled": true
   },
   "outputs": [
    {
     "name": "stdout",
     "output_type": "stream",
     "text": [
      "[('변상', 'Noun'), ('확인', 'Noun'), ('요청서', 'Noun'), ('를', 'Josa'), ('포함', 'Noun'), ('한', 'Josa'), ('요청', 'Noun'), ('서류', 'Noun'), ('발송', 'Noun'), ('후', 'Noun'), ('주', 'Noun'), ('내', 'Noun'), ('보상', 'Noun'), ('약속', 'Noun'), ('을', 'Josa'), ('하였음', 'Verb')]\n"
     ]
    }
   ],
   "source": [
    "# 품사 부착(pos, Part of Speech)\n",
    "print(okt_tag.pos(X_train.iloc[6]))"
   ]
  },
  {
   "cell_type": "code",
   "execution_count": 31,
   "metadata": {},
   "outputs": [
    {
     "name": "stdout",
     "output_type": "stream",
     "text": [
      "['변상', '확인', '요청서', '포함', '요청', '서류', '발송', '후', '주', '내', '보상', '약속']\n"
     ]
    }
   ],
   "source": [
    "# 명사추출(nouns)\n",
    "print(okt_tag.nouns(X_train.iloc[6]))"
   ]
  },
  {
   "cell_type": "code",
   "execution_count": 32,
   "metadata": {},
   "outputs": [],
   "source": [
    "def okt_tokenizer(text):\n",
    "    return okt_tag.morphs(text)"
   ]
  },
  {
   "cell_type": "code",
   "execution_count": 33,
   "metadata": {},
   "outputs": [],
   "source": [
    "okt_vec = TfidfVectorizer(tokenizer=okt_tokenizer,min_df=5)\n",
    "X_tr_okt = okt_vec.fit_transform(X_train)"
   ]
  },
  {
   "cell_type": "code",
   "execution_count": 34,
   "metadata": {},
   "outputs": [
    {
     "name": "stdout",
     "output_type": "stream",
     "text": [
      "['a', 'as', 'cj', 'dvd', 'gs', 'kg', 'kgb', 'lg', 'o', 's', 'tv', 'ㅇ', '가', '가격', '가능하다고', '가량', '가방', '가서', '가액', '가지', '가치', '각', '간', '간선', '감', '값', '같다고', '같은', '같이', '개', '개는', '개당', '개봉', '개요', '개월', '개인', '개중', '거래', '거부', '거절', '거제', '거주', '건', '건강', '것', '것임', '게', '게시판', '견적', '결과', '결정', '결제', '경', '경과', '경기도', '경남', '경북', '경비실', '경우', '계속', '계약', '계좌', '고', '고가', '고객', '고구마', '고시', '고장', '고지', '고함', '골프', '골프채', '곳', '공', '공연', '공정', '과', '과실', '과일', '과정', '관계', '관련', '관세', '광주', '교체', '교환', '구', '구매', '구멍', '구입', '구제', '구함', '국내', '권', '규정', '귤', '그', '그냥', '그대로', '그러나']\n"
     ]
    }
   ],
   "source": [
    "print(okt_vec.get_feature_names()[:100])"
   ]
  },
  {
   "cell_type": "code",
   "execution_count": 35,
   "metadata": {
    "scrolled": true
   },
   "outputs": [
    {
     "name": "stdout",
     "output_type": "stream",
     "text": [
      "<<<shape of X_tr_okt>>> :  (2045, 970)\n",
      "<<<type of X_tr_okt>>> :  <class 'scipy.sparse.csr.csr_matrix'>\n",
      "<<<X_tr_okt[:10,:10]>>> :\n",
      "   (2, 0)\t0.579361111175318\n",
      "  (2, 9)\t0.5875730645534857\n",
      "  (8, 8)\t0.3687037832553647\n"
     ]
    }
   ],
   "source": [
    "print(\"<<<shape of X_tr_okt>>> : \",X_tr_okt.shape)\n",
    "print(\"<<<type of X_tr_okt>>> : \",type(X_tr_okt))\n",
    "print(\"<<<X_tr_okt[:10,:10]>>> :\\n\",X_tr_okt[:10,:10])"
   ]
  },
  {
   "cell_type": "code",
   "execution_count": 36,
   "metadata": {
    "scrolled": true
   },
   "outputs": [],
   "source": [
    "from sklearn.pipeline import make_pipeline\n",
    "cplt_param_grid = {'svc__C': [1, 10, 100, 1000],\n",
    "                   'svc__gamma': [0.01, 0.1, 1, 100]}\n",
    "cplt_pipe = make_pipeline(TfidfVectorizer(tokenizer=okt_tokenizer,min_df=5), SVC())\n",
    "cplt_grid = GridSearchCV(cplt_pipe, cplt_param_grid,cv=5)"
   ]
  },
  {
   "cell_type": "raw",
   "metadata": {},
   "source": [
    "%%time\n",
    "# 15 min running\n",
    "# 그리드 서치를 수행합니다.\n",
    "cplt_grid.fit(X_train, y_train)\n",
    "print(\"최상의 크로스 밸리데이션 점수: {:.3f}\".format(cplt_grid.best_score_))\n",
    "print(\"최적의 크로스 밸리데이션 파라미터: \", cplt_grid.best_params_)"
   ]
  },
  {
   "cell_type": "raw",
   "metadata": {},
   "source": [
    "import pickle\n",
    "filename = 'cplt_grid.sav'"
   ]
  },
  {
   "cell_type": "raw",
   "metadata": {},
   "source": [
    "# save the model to disk\n",
    "pickle.dump(cplt_grid, open(filename, 'wb'))"
   ]
  },
  {
   "cell_type": "code",
   "execution_count": 40,
   "metadata": {},
   "outputs": [
    {
     "name": "stdout",
     "output_type": "stream",
     "text": [
      "훈련 세트 점수: 0.94\n"
     ]
    }
   ],
   "source": [
    "# load the model from disk\n",
    "cplt_grid = pickle.load(open(filename, 'rb'))\n",
    "print(\"훈련 세트 점수: {:.2f}\".format(cplt_grid.score(X_train, y_train)))"
   ]
  },
  {
   "cell_type": "code",
   "execution_count": 42,
   "metadata": {
    "scrolled": false
   },
   "outputs": [
    {
     "name": "stdout",
     "output_type": "stream",
     "text": [
      "테스트 세트 점수: 0.78\n"
     ]
    }
   ],
   "source": [
    "print(\"테스트 세트 점수: {:.2f}\".format(cplt_grid.score(X_test, y_test)))"
   ]
  },
  {
   "cell_type": "code",
   "execution_count": 43,
   "metadata": {
    "scrolled": false
   },
   "outputs": [
    {
     "data": {
      "text/plain": [
       "array([[ 289,    6,    0,    0,    1,   17],\n",
       "       [   2,  201,    1,    0,    2,    9],\n",
       "       [   0,    0,   39,    0,    0,    0],\n",
       "       [   0,    0,    0,   22,    0,    0],\n",
       "       [   0,    0,    0,    0,   46,    0],\n",
       "       [  26,   27,    6,    4,   22, 1325]], dtype=int64)"
      ]
     },
     "execution_count": 43,
     "metadata": {},
     "output_type": "execute_result"
    }
   ],
   "source": [
    "y_tr_pred = cplt_grid.predict(X_train)\n",
    "confusion_matrix(y_tr_pred, y_train)"
   ]
  },
  {
   "cell_type": "code",
   "execution_count": 44,
   "metadata": {
    "scrolled": true
   },
   "outputs": [
    {
     "data": {
      "text/plain": [
       "array([[ 77,   2,   2,   2,   1,  28],\n",
       "       [  0,  48,   0,   1,   0,  15],\n",
       "       [  1,   0,   3,   0,   0,   0],\n",
       "       [  0,   0,   0,   0,   0,   0],\n",
       "       [  0,   0,   0,   1,   2,   0],\n",
       "       [ 20,  28,  16,   6,  25, 404]], dtype=int64)"
      ]
     },
     "execution_count": 44,
     "metadata": {},
     "output_type": "execute_result"
    }
   ],
   "source": [
    "y_tt_pred = cplt_grid.best_estimator_.predict(X_test)\n",
    "confusion_matrix(y_tt_pred, y_test)"
   ]
  },
  {
   "cell_type": "code",
   "execution_count": 45,
   "metadata": {},
   "outputs": [
    {
     "name": "stdout",
     "output_type": "stream",
     "text": [
      "2711    False\n",
      "332     False\n",
      "195     False\n",
      "2137    False\n",
      "923      True\n",
      "2707     True\n",
      "776     False\n",
      "1708    False\n",
      "2013    False\n",
      "2288    False\n",
      "dtype: bool\n"
     ]
    }
   ],
   "source": [
    "ind = y_tt_pred != y_test\n",
    "print(ind[:10])"
   ]
  },
  {
   "cell_type": "code",
   "execution_count": 47,
   "metadata": {},
   "outputs": [
    {
     "name": "stdout",
     "output_type": "stream",
     "text": [
      "X_test[4]: \n",
      " 보낼때는 아무말없다가 파손되었다고하니 컴퓨터는 보내면 안되는 물품이라며 지사로 확인해보라고하며 책임을 회피함\n",
      "y_test[4]:  5\n",
      "y_tt_pred[4]:  0\n"
     ]
    },
    {
     "data": {
      "text/plain": [
       "Index(['훼손/파손', '분실', '배송지연', '오배송', '기타(임의반품, 불친절, 집하거부 등)', '관련없음'], dtype='object')"
      ]
     },
     "execution_count": 47,
     "metadata": {},
     "output_type": "execute_result"
    }
   ],
   "source": [
    "print(\"X_test[4]: \\n\",X_test.iloc[4])\n",
    "print(\"y_test[4]: \",y_test.iloc[4])\n",
    "print(\"y_tt_pred[4]: \",y_tt_pred[4])\n",
    "senta.columns[3:]"
   ]
  },
  {
   "cell_type": "code",
   "execution_count": 48,
   "metadata": {
    "scrolled": false
   },
   "outputs": [
    {
     "name": "stdout",
     "output_type": "stream",
     "text": [
      "X_test[5]: \n",
      " KG 로지시의 택배약관에도 사고책임 및 보상 규정에서 손해액 배상을 한다고 하고 있으며 사업자 또는 사용인의 과실로 인하여 발생한 부분은 모든 규정에도 불구하고 손해를 배상함을 명시하고 있음\n",
      "y_test[5]: \n",
      " 5\n",
      "y_tt_pred[5]: \n",
      " 0\n"
     ]
    }
   ],
   "source": [
    "print(\"X_test[5]: \\n\",X_test.iloc[5])\n",
    "print(\"y_test[5]: \\n\",y_test.iloc[5])\n",
    "print(\"y_tt_pred[5]: \\n\",y_tt_pred[5])"
   ]
  },
  {
   "cell_type": "markdown",
   "metadata": {},
   "source": [
    "### Gensim Word2Vec\n",
    "\n",
    "https://datascienceschool.net/view-notebook/6927b0906f884a67b0da9310d3a581ee/\n",
    "\n",
    "https://ratsgo.github.io/from%20frequency%20to%20semantics/2017/03/30/word2vec/\n",
    "\n",
    "![Integer Memory Layout](Fgr/TM_3_W2V_ex.JPG)\n",
    "\n",
    "\n",
    "> CBOW(Continuous Bag of Words) Embedding\n",
    "\n",
    "![Integer Memory Layout](Fgr/TM_4_W2V_CBOW.JPG)\n",
    "\n",
    "\n",
    "> Skip-Gram(SG) Embedding\n",
    "\n",
    "![Integer Memory Layout](Fgr/TM_5_W2V_SG.JPG)\n",
    "\n"
   ]
  },
  {
   "cell_type": "code",
   "execution_count": 49,
   "metadata": {},
   "outputs": [],
   "source": [
    "import gensim \n",
    "from gensim.models import Word2Vec"
   ]
  },
  {
   "cell_type": "code",
   "execution_count": 50,
   "metadata": {},
   "outputs": [
    {
     "name": "stdout",
     "output_type": "stream",
     "text": [
      "X_tr_mphs[:2]: \n",
      " [['다', '신청', '인', '은', '물품', '이', '한국', '에', '도착', '하지', '아니하고', '물품', '조회', '가', '이루어지지', '아니하여', '발송', '인', '신청', '외', '김수지', '에게', '호주', '에서의', '물품', '발송', '여부', '확인', '을', '부탁', '함'], ['군포', 'BHub', '간선', '하차', '군포', 'BHub']]\n",
      "X_tt_mphs[:2]: \n",
      " [['신청', '인', '은', '경', '대', '한', '통운', '동', '광주', '지점', '은', '택배', '비', '금', '천원', '과', '가전제품', '을', '인수', '하면서', '파손', '면책', '에', '서명', '을', '하지', '않으면', '가져갈', '수', '없다며', '서명', '을', '요구', '하였으므로', '본인', '은', '물건', '을', '보내기', '위해', '서명', '을', '한', '사실', '이', '있음'], ['운송', '장', '번호']]\n"
     ]
    }
   ],
   "source": [
    "X_tr_mphs=[okt_tag.morphs(s) for s in X_train]\n",
    "X_tt_mphs=[okt_tag.morphs(s) for s in X_test]\n",
    "print(\"X_tr_mphs[:2]: \\n\",X_tr_mphs[:2])\n",
    "print(\"X_tt_mphs[:2]: \\n\",X_tt_mphs[:2])"
   ]
  },
  {
   "cell_type": "code",
   "execution_count": 51,
   "metadata": {
    "scrolled": false
   },
   "outputs": [
    {
     "name": "stdout",
     "output_type": "stream",
     "text": [
      "Wall time: 146 ms\n"
     ]
    }
   ],
   "source": [
    "%%time\n",
    "model = Word2Vec(X_tr_mphs)"
   ]
  },
  {
   "cell_type": "raw",
   "metadata": {},
   "source": [
    "Word2Vec?"
   ]
  },
  {
   "cell_type": "code",
   "execution_count": 52,
   "metadata": {},
   "outputs": [
    {
     "data": {
      "text/plain": [
       "0.8902616"
      ]
     },
     "execution_count": 52,
     "metadata": {},
     "output_type": "execute_result"
    }
   ],
   "source": [
    "model.wv.similarity('신청', '물품')"
   ]
  },
  {
   "cell_type": "code",
   "execution_count": 53,
   "metadata": {
    "scrolled": true
   },
   "outputs": [
    {
     "data": {
      "text/plain": [
       "0.99543107"
      ]
     },
     "execution_count": 53,
     "metadata": {},
     "output_type": "execute_result"
    }
   ],
   "source": [
    "model.wv.similarity('택배', '서명')"
   ]
  },
  {
   "cell_type": "code",
   "execution_count": 54,
   "metadata": {
    "scrolled": true
   },
   "outputs": [
    {
     "data": {
      "text/plain": [
       "[('를', 0.9995439052581787),\n",
       " ('경', 0.9994050860404968),\n",
       " ('동', 0.9993618726730347),\n",
       " ('기사', 0.9993550777435303),\n",
       " ('부산', 0.9993494749069214),\n",
       " ('지점', 0.9993389248847961),\n",
       " ('대', 0.999316930770874),\n",
       " ('현대', 0.9993081092834473),\n",
       " ('대행', 0.9992659091949463),\n",
       " ('통운', 0.9992417097091675)]"
      ]
     },
     "execution_count": 54,
     "metadata": {},
     "output_type": "execute_result"
    }
   ],
   "source": [
    "model.wv.most_similar(\"택배\")"
   ]
  },
  {
   "cell_type": "code",
   "execution_count": 55,
   "metadata": {
    "scrolled": true
   },
   "outputs": [
    {
     "data": {
      "text/plain": [
       "[('훼손', 0.9997409582138062),\n",
       " ('제품', 0.9997328519821167),\n",
       " ('분실', 0.9996873140335083),\n",
       " ('에', 0.9996577501296997),\n",
       " ('하는', 0.9996424317359924),\n",
       " ('요청', 0.9996423721313477),\n",
       " ('사실', 0.9996275305747986),\n",
       " ('부분', 0.9996256232261658),\n",
       " ('과', 0.9995768070220947),\n",
       " ('사과', 0.9995695948600769)]"
      ]
     },
     "execution_count": 55,
     "metadata": {},
     "output_type": "execute_result"
    }
   ],
   "source": [
    "model.wv.most_similar(\"파손\")"
   ]
  },
  {
   "cell_type": "code",
   "execution_count": 56,
   "metadata": {},
   "outputs": [],
   "source": [
    "X_tr_dict = dict({})\n",
    "for idx, key in enumerate(model.wv.vocab):\n",
    "    X_tr_dict[key] = model.wv[key]\n",
    "    # Or my_dict[key] = model.wv.get_vector(key)\n",
    "    # Or my_dict[key] = model.wv.word_vec(key, use_norm=False)"
   ]
  },
  {
   "cell_type": "code",
   "execution_count": 57,
   "metadata": {
    "scrolled": false
   },
   "outputs": [
    {
     "name": "stdout",
     "output_type": "stream",
     "text": [
      "Writing 'X_tr_dict' (dict) to file 'X_tr_dict.txt'.\n"
     ]
    }
   ],
   "source": [
    "%store X_tr_dict > X_tr_dict.txt"
   ]
  },
  {
   "cell_type": "code",
   "execution_count": 58,
   "metadata": {},
   "outputs": [
    {
     "data": {
      "text/plain": [
       "array([[-0.49738663,  0.12606657,  0.18471774, ..., -0.42070967,\n",
       "        -0.08481053,  0.65967464],\n",
       "       [-0.5368251 ,  0.12702276,  0.22401915, ..., -0.3910539 ,\n",
       "        -0.09769269,  0.6329188 ],\n",
       "       [-0.38597324,  0.50184745,  0.28143334, ..., -0.684482  ,\n",
       "         0.02626507,  0.806305  ],\n",
       "       ...,\n",
       "       [-0.06323787,  0.07567094,  0.047002  , ..., -0.11186374,\n",
       "         0.00742382,  0.12635998],\n",
       "       [-0.02991179,  0.02714918,  0.02282662, ..., -0.04296595,\n",
       "        -0.00145514,  0.05530215],\n",
       "       [-0.05174516,  0.07238609,  0.04541634, ..., -0.09597864,\n",
       "         0.00387169,  0.11925457]], dtype=float32)"
      ]
     },
     "execution_count": 58,
     "metadata": {},
     "output_type": "execute_result"
    }
   ],
   "source": [
    "model.wv.vectors"
   ]
  },
  {
   "cell_type": "code",
   "execution_count": 59,
   "metadata": {
    "scrolled": true
   },
   "outputs": [
    {
     "data": {
      "text/plain": [
       "array([[-0.5368251 ,  0.12702276,  0.22401915,  0.32993618,  0.01066917,\n",
       "         0.1478974 ,  0.31329438, -0.36615914, -0.24005356, -0.06175203,\n",
       "        -0.32087246,  0.02673874,  0.15862945, -0.21094662, -0.10941812,\n",
       "         0.5543546 , -0.03523646, -0.02206388,  0.40984178,  0.02939426,\n",
       "        -0.30395958, -0.13485093, -0.3368669 ,  0.738099  , -0.3037211 ,\n",
       "        -0.09991644, -0.51740015,  0.40043175,  0.01735786, -0.15377139,\n",
       "        -0.08368897, -0.0307893 , -0.00201798,  0.24695738, -0.44683036,\n",
       "        -0.15814564,  0.3380094 ,  0.22411872,  0.14994505,  0.4022854 ,\n",
       "         0.7508758 , -0.11029902,  0.47598618,  0.04470073, -0.21169548,\n",
       "        -0.17911357,  0.06031364, -0.02970409, -0.21693213, -0.5909086 ,\n",
       "         0.19144952, -0.42639634,  0.01391671, -0.23499022,  0.01152144,\n",
       "        -0.59654903,  0.05843896,  0.19332814, -0.29970217, -0.40113148,\n",
       "         0.21778111,  0.15688719, -0.16409811,  0.17907536, -0.4500669 ,\n",
       "        -0.14850417, -0.25789762, -0.5873179 ,  0.20625795, -0.18563455,\n",
       "        -0.02713329,  0.3188659 ,  0.08612575,  0.11387395, -0.05260667,\n",
       "        -0.17777662, -0.00362567, -0.02747422, -0.11818977, -0.14739925,\n",
       "         0.06908815, -0.00405797, -0.00806436, -0.24194305, -0.13410369,\n",
       "        -0.27299422, -0.12765406, -0.1483103 , -0.29896653,  0.0449968 ,\n",
       "         0.15961841,  0.22829032, -0.06563607, -0.56607795, -0.13881838,\n",
       "        -0.03533041, -0.282493  , -0.3910539 , -0.09769269,  0.6329188 ],\n",
       "       [-0.34656245,  0.4445311 ,  0.26300102,  0.11505358, -0.01749188,\n",
       "        -0.01082846,  0.15424219, -0.4302113 , -0.10874087,  0.00823752,\n",
       "        -0.25732607,  0.03382682,  0.03497819, -0.23614267, -0.16903862,\n",
       "         0.55206734, -0.00800191, -0.11524393,  0.3481935 , -0.215978  ,\n",
       "        -0.42647022, -0.20146991, -0.3444448 ,  0.72661096, -0.08811709,\n",
       "        -0.24280006, -0.40203166,  0.3788161 ,  0.05980995,  0.00784475,\n",
       "        -0.0917617 , -0.18223758, -0.06195916,  0.35761932, -0.43262565,\n",
       "        -0.06968679,  0.25112218,  0.37288195,  0.22593226,  0.52625626,\n",
       "         0.5345161 ,  0.02515363,  0.45847368, -0.14407018, -0.12990548,\n",
       "        -0.03519391,  0.07952275, -0.27919093, -0.36396858, -0.4381712 ,\n",
       "         0.17357413, -0.23443083, -0.11762237, -0.06960382,  0.17114341,\n",
       "        -0.5614228 ,  0.05653159,  0.04462645, -0.3537739 , -0.45897633,\n",
       "         0.13098912, -0.0292161 , -0.38711807, -0.04458183, -0.11563267,\n",
       "        -0.06537914, -0.2869098 , -0.5631902 , -0.02568309, -0.14389439,\n",
       "        -0.05754886,  0.5560313 ,  0.00862604,  0.36182073,  0.01307945,\n",
       "        -0.06629214, -0.1119091 ,  0.20848955,  0.00128463, -0.0461354 ,\n",
       "         0.02466231,  0.03753813,  0.15395829, -0.28562796, -0.20234808,\n",
       "        -0.08690027, -0.21390946, -0.02570185, -0.14731345,  0.05683547,\n",
       "         0.01368926,  0.09495258, -0.02163421, -0.49783498, -0.23975092,\n",
       "        -0.21737501, -0.28380755, -0.6347647 ,  0.02635137,  0.7235109 ]],\n",
       "      dtype=float32)"
      ]
     },
     "execution_count": 59,
     "metadata": {},
     "output_type": "execute_result"
    }
   ],
   "source": [
    "model.wv[['신청','제품']]"
   ]
  },
  {
   "cell_type": "markdown",
   "metadata": {},
   "source": [
    "#### word averaging\n",
    "\n",
    "출처: https://towardsdatascience.com/multi-class-text-classification-model-comparison-and-selection-5eb066197568"
   ]
  },
  {
   "cell_type": "code",
   "execution_count": 60,
   "metadata": {},
   "outputs": [],
   "source": [
    "import logging\n",
    "def word_averaging(wv, words):\n",
    "    all_words, mean = set(), []\n",
    "    \n",
    "    for word in words:\n",
    "        if isinstance(word, np.ndarray):\n",
    "            mean.append(word)\n",
    "        elif word in wv.vocab:\n",
    "            mean.append(wv.vectors_norm[wv.vocab[word].index])\n",
    "            all_words.add(wv.vocab[word].index)\n",
    "\n",
    "    if not mean:\n",
    "        logging.warning(\"cannot compute similarity with no input %s\", words)\n",
    "        # FIXME: remove these examples in pre-processing\n",
    "        return np.zeros(wv.vector_size,)\n",
    "\n",
    "    mean = gensim.matutils.unitvec(np.array(mean).mean(axis=0)).astype(np.float32)\n",
    "    return mean\n",
    "\n",
    "def  word_averaging_list(wv, text_list):\n",
    "    return np.vstack([word_averaging(wv, post) for post in text_list ])"
   ]
  },
  {
   "cell_type": "code",
   "execution_count": 61,
   "metadata": {
    "scrolled": false
   },
   "outputs": [
    {
     "name": "stderr",
     "output_type": "stream",
     "text": [
      "WARNING:root:cannot compute similarity with no input ['중부지방', '폭설', '과는', '상관없음']\n",
      "WARNING:root:cannot compute similarity with no input ['김정훈']\n",
      "WARNING:root:cannot compute similarity with no input ['페덱스', '트', '래', '킹', '넘버']\n"
     ]
    }
   ],
   "source": [
    "X_tr_wa = word_averaging_list(model.wv,X_tr_mphs)\n",
    "X_tt_wa = word_averaging_list(model.wv,X_tt_mphs)"
   ]
  },
  {
   "cell_type": "code",
   "execution_count": 62,
   "metadata": {},
   "outputs": [
    {
     "name": "stdout",
     "output_type": "stream",
     "text": [
      "Wall time: 1min 37s\n"
     ]
    }
   ],
   "source": [
    "%%time\n",
    "# wait 2 min\n",
    "from sklearn.model_selection import GridSearchCV\n",
    "param_grid = {'C': [10, 100,1000], # \n",
    "              'gamma': [10, 100, 1000]} # 0.01\n",
    "grid_search_wa = GridSearchCV(SVC(), param_grid, cv=5, return_train_score=True)\n",
    "grid_search_wa.fit(X_tr_wa, y_train)"
   ]
  },
  {
   "cell_type": "code",
   "execution_count": 63,
   "metadata": {
    "scrolled": true
   },
   "outputs": [
    {
     "data": {
      "text/plain": [
       "{'C': 100, 'gamma': 100}"
      ]
     },
     "execution_count": 63,
     "metadata": {},
     "output_type": "execute_result"
    }
   ],
   "source": [
    "grid_search_wa.best_params_"
   ]
  },
  {
   "cell_type": "code",
   "execution_count": 64,
   "metadata": {},
   "outputs": [
    {
     "data": {
      "text/plain": [
       "0.7154034229828851"
      ]
     },
     "execution_count": 64,
     "metadata": {},
     "output_type": "execute_result"
    }
   ],
   "source": [
    "grid_search_wa.best_score_"
   ]
  },
  {
   "cell_type": "code",
   "execution_count": 65,
   "metadata": {},
   "outputs": [
    {
     "name": "stdout",
     "output_type": "stream",
     "text": [
      "훈련 세트 점수: 0.77\n"
     ]
    }
   ],
   "source": [
    "print(\"훈련 세트 점수: {:.2f}\".format(grid_search_wa.score(X_tr_wa, y_train)))"
   ]
  },
  {
   "cell_type": "code",
   "execution_count": 66,
   "metadata": {
    "scrolled": false
   },
   "outputs": [
    {
     "name": "stdout",
     "output_type": "stream",
     "text": [
      "테스트 세트 점수: 0.69\n"
     ]
    }
   ],
   "source": [
    "print(\"테스트 세트 점수: {:.2f}\".format(grid_search_wa.score(X_tt_wa, y_test)))"
   ]
  }
 ],
 "metadata": {
  "kernelspec": {
   "display_name": "tf37c",
   "language": "python",
   "name": "tf37c"
  },
  "language_info": {
   "codemirror_mode": {
    "name": "ipython",
    "version": 3
   },
   "file_extension": ".py",
   "mimetype": "text/x-python",
   "name": "python",
   "nbconvert_exporter": "python",
   "pygments_lexer": "ipython3",
   "version": "3.6.8"
  },
  "varInspector": {
   "cols": {
    "lenName": 16,
    "lenType": 16,
    "lenVar": 40
   },
   "kernels_config": {
    "python": {
     "delete_cmd_postfix": "",
     "delete_cmd_prefix": "del ",
     "library": "var_list.py",
     "varRefreshCmd": "print(var_dic_list())"
    },
    "r": {
     "delete_cmd_postfix": ") ",
     "delete_cmd_prefix": "rm(",
     "library": "var_list.r",
     "varRefreshCmd": "cat(var_dic_list()) "
    }
   },
   "types_to_exclude": [
    "module",
    "function",
    "builtin_function_or_method",
    "instance",
    "_Feature"
   ],
   "window_display": false
  }
 },
 "nbformat": 4,
 "nbformat_minor": 2
}
